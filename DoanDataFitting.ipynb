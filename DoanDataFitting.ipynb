{
 "cells": [
  {
   "cell_type": "markdown",
   "metadata": {},
   "source": [
    "Cau A"
   ]
  },
  {
   "cell_type": "code",
   "execution_count": 501,
   "metadata": {},
   "outputs": [],
   "source": [
    "import pandas as pd\n",
    "import numpy as np\n",
    "np.random.seed(11)\n",
    "def getXY(a):\n",
    "    X=np.delete(a,11,1)\n",
    "    Y=a[:,11]\n",
    "    return X,Y\n",
    "\n"
   ]
  },
  {
   "cell_type": "markdown",
   "metadata": {},
   "source": [
    "                Mô hình\n",
    "$$Y = \\theta_1X_1 + \\theta_2X_2 + ... + \\theta_{11}X_{11}$$"
   ]
  },
  {
   "cell_type": "code",
   "execution_count": 502,
   "metadata": {},
   "outputs": [
    {
     "name": "stdout",
     "output_type": "stream",
     "text": [
      "Theta 0: [0.00592516]\n",
      "Theta 1: [-1.10803754]\n",
      "Theta 2: [-0.26304628]\n",
      "Theta 3: [0.01532228]\n",
      "Theta 4: [-1.73050274]\n",
      "Theta 5: [0.00380142]\n",
      "Theta 6: [-0.003899]\n",
      "Theta 7: [4.33858768]\n",
      "Theta 8: [-0.45853548]\n",
      "Theta 9: [0.72971866]\n",
      "Theta 10: [0.30885865]\n",
      "Y=0.00593*x1-1.10804*x2-0.26305*x3+0.01532*x4-1.73050*x5+0.00380*x6-0.00390*x7+4.33859*x8-0.45854*x9+0.72972*x10+0.30886*x11"
     ]
    }
   ],
   "source": [
    "df = pd.read_csv('wine.csv', sep=';')\n",
    "tt = df.columns.to_list()\n",
    "a=df.to_numpy()\n",
    "\n",
    "X,Y=getXY(a)\n",
    "def Theta_hatt(X,Y):\n",
    "    A=X\n",
    "    AT=np.transpose(A)\n",
    "    B=Y.reshape(len(Y),1)\n",
    "    T=np.dot(np.linalg.inv(np.dot(AT,A)),np.dot(AT,B))\n",
    "    return T\n",
    "Theta=Theta_hatt(X,Y)\n",
    "for i in range (len(Theta)):\n",
    "    print(\"Theta {}:\".format(i),Theta[i])\n",
    "print(\"Y=\",end='')\n",
    "for i in range (len(Theta)):\n",
    "    if(Theta[i]>0):\n",
    "        if i == 0:\n",
    "            print('{0:.5f}*x{1}'.format(Theta[i][0],i+1),end='')\n",
    "        else:print('+{0:.5f}*x{1}'.format(Theta[i][0],i+1),end='')\n",
    "    else:\n",
    "        print('{0:.5f}*x{1}'.format(Theta[i][0],i+1),end='')\n"
   ]
  },
  {
   "cell_type": "markdown",
   "metadata": {},
   "source": [
    "Cau B"
   ]
  },
  {
   "cell_type": "markdown",
   "metadata": {},
   "source": [
    "                   Sai số MSE\n",
    "$$MSE = \\frac{1}{n}\\sum_{i = 1}^{n} (y_i - \\hat{y_i})^2$$"
   ]
  },
  {
   "cell_type": "code",
   "execution_count": 503,
   "metadata": {},
   "outputs": [],
   "source": [
    "\n",
    "def MSE(Y,Y_hat):\n",
    "    sum=0\n",
    "    for i in range (len(Y)):\n",
    "        sum+=(Y[i]-Y_hat[i])**2\n",
    "    sum/=len(Y)\n",
    "    return sum\n",
    "\n"
   ]
  },
  {
   "cell_type": "markdown",
   "metadata": {},
   "source": [
    "                Cross Validation"
   ]
  },
  {
   "cell_type": "code",
   "execution_count": 504,
   "metadata": {},
   "outputs": [
    {
     "name": "stdout",
     "output_type": "stream",
     "text": [
      "0:fixed acidity 1.6983631494760338\n",
      "1:volatile acidity 5.136446787162993\n",
      "2:citric acid 9.6281176740976\n",
      "3:residual sugar 6.83288609866014\n",
      "4:chlorides 8.468744241612058\n",
      "5:free sulfur dioxide 10.962685424685478\n",
      "6:total sulfur dioxide 12.689378550333313\n",
      "7:density 0.6593232860380397\n",
      "8:pH 0.7603353157096413\n",
      "9:sulphates 2.3061636454000127\n",
      "10:alcohol 0.5240924142165829\n",
      "Thuộc tính đặc trưng tốt nhất là alcohol\n",
      "Mô hình tương ứng: Y=0.54371x\n"
     ]
    }
   ],
   "source": [
    "np.random.shuffle(a)\n",
    "def Y_hat(X,Y,x1):\n",
    "    T=Theta_hatt(X,Y)\n",
    "    Y_hatt=T[0][0]*x1\n",
    "    return Y_hatt\n",
    "\n",
    "def CrossValidation(f,column,kflod):\n",
    "    p=np.array_split(a,kflod)\n",
    "    err=0\n",
    "    for i in range (kflod): #chon 1 tập hợp làm Test\n",
    "        Y=p[i][:,11]\n",
    "        X=p[i][:,column]\n",
    "        for j in range(kflod): #cac tập hợp còn lại là train\n",
    "            if i!=j:\n",
    "                g=p[j]\n",
    "                for l in range(kflod):\n",
    "                    if i!=l and j!=l:\n",
    "                        h=p[l]\n",
    "                        g=np.concatenate((g,h),axis=0)\n",
    "                X2=g[:,column]\n",
    "                Y2=g[:,11]\n",
    "                break;\n",
    "        X2=X2.reshape(len(X2),1)\n",
    "        Ymu=f(X2,Y2,X)\n",
    "        err+=MSE(Y,Ymu)\n",
    "    return err/kflod\n",
    "\n",
    "K=[]\n",
    "for i in range (11):\n",
    "    print(\"{0:}:{1:}\".format(i,tt[i]),CrossValidation(Y_hat,i,5))\n",
    "    K.append(CrossValidation(Y_hat,i,5))\n",
    "idx=K.index(min(K))\n",
    "X=a[:,idx]\n",
    "Y=a[:,11]\n",
    "X=X.reshape(len(X),1)\n",
    "print('Thuộc tính đặc trưng tốt nhất là',tt[idx])\n",
    "print('Mô hình tương ứng: Y=',end='')\n",
    "print('{0:.5f}x'.format(Theta_hatt(X,Y)[0][0]))\n",
    "\n",
    "\n",
    "\n",
    "\n",
    "        \n",
    "\n",
    "    \n",
    "    "
   ]
  },
  {
   "cell_type": "markdown",
   "metadata": {},
   "source": [
    "<h>Câu C <h> Tìm mô hình riêng cho kết quả tốt nhất"
   ]
  },
  {
   "cell_type": "markdown",
   "metadata": {},
   "source": [
    "            Mô hình\n",
    "$Y_1 = \\theta_0 + \\theta_1 X_1^2$"
   ]
  },
  {
   "cell_type": "code",
   "execution_count": 505,
   "metadata": {},
   "outputs": [
    {
     "name": "stdout",
     "output_type": "stream",
     "text": [
      "0:fixed acidity 0.6418312625300946\n",
      "1:volatile acidity 0.576085764001403\n",
      "2:citric acid 0.6238616079706147\n",
      "3:residual sugar 0.655965131743191\n",
      "4:chlorides 0.6508894837170027\n",
      "5:free sulfur dioxide 0.6544237553588615\n",
      "6:total sulfur dioxide 0.6443782692526723\n",
      "7:density 0.6328510702087332\n",
      "8:pH 0.6525073656294182\n",
      "9:sulphates 0.6519818552425936\n",
      "10:alcohol 0.49365440788893944\n",
      "Thuộc tính đặc trưng tốt nhất là alcohol có độ sai số là 0.49365\n"
     ]
    }
   ],
   "source": [
    "\n",
    "def Y1(X,Y,x1):\n",
    "    X2= np.ones_like(X[:,0])\n",
    "    X2= X2.reshape(len(X2),1)\n",
    "    X=X*X\n",
    "    X=np.concatenate((X2,X),axis=1) #1 + Xtrain\n",
    "    T=Theta_hatt(X,Y)\n",
    "    Y_hat=T[0][0]+T[1][0]*x1*x1\n",
    "    return Y_hat\n",
    "L=[]\n",
    "for i in range (11):\n",
    "    err=CrossValidation(Y1,i,5)\n",
    "    print(\"{0:}:{1:}\".format(i,tt[i]),err)\n",
    "    L.append(err)\n",
    "idx=L.index(min(L))\n",
    "print('Thuộc tính đặc trưng tốt nhất là',tt[idx],end=' ')\n",
    "print(\"có độ sai số là {0:.5f}\".format(L[idx]))"
   ]
  },
  {
   "cell_type": "markdown",
   "metadata": {},
   "source": [
    "            Mô hình\n",
    "$Y_2 = \\theta_0 + \\theta_1 X_1^3 + \\theta_2 X_2^2$"
   ]
  },
  {
   "cell_type": "code",
   "execution_count": 506,
   "metadata": {},
   "outputs": [
    {
     "name": "stdout",
     "output_type": "stream",
     "text": [
      "0:fixed acidity 0.6415935930784299\n",
      "1:volatile acidity 0.5633400141401979\n",
      "2:citric acid 0.6221079642923586\n",
      "3:residual sugar 0.6548453891507485\n",
      "4:chlorides 0.651748538794733\n",
      "5:free sulfur dioxide 0.6536119806923144\n",
      "6:total sulfur dioxide 0.6097796067665078\n",
      "7:density 0.6178026338826947\n",
      "8:pH 0.6535476050960611\n",
      "9:sulphates 0.6018991253439439\n",
      "10:alcohol 0.48883834339090476\n",
      "Thuộc tính đặc trưng tốt nhất là alcohol có độ sai số là 0.48884\n"
     ]
    }
   ],
   "source": [
    "def Y2(X,Y,x1):\n",
    "    X2= np.ones_like(X[:,0])\n",
    "    X2= X2.reshape(len(X2),1)\n",
    "    \n",
    "    X1=X*X*X\n",
    "    X3=X*X\n",
    "    X=np.concatenate((X2,X1),axis=1) #1 + Xtrain\n",
    "    X=np.concatenate((X,X3),axis=1)\n",
    "    T=Theta_hatt(X,Y)\n",
    "    Y_hat=T[0][0]+T[1][0]*x1*x1*x1+T[2][0]*x1*x1\n",
    "    return Y_hat\n",
    "\n",
    "F=[]\n",
    "for i in range (11):\n",
    "    err=CrossValidation(Y2,i,5)\n",
    "    print(\"{0:}:{1:}\".format(i,tt[i]),err)\n",
    "    F.append(err)\n",
    "idx=F.index(min(F))\n",
    "print('Thuộc tính đặc trưng tốt nhất là',tt[idx],end=' ')\n",
    "print(\"có độ sai số là {0:.5f}\".format(F[idx]))\n"
   ]
  },
  {
   "cell_type": "markdown",
   "metadata": {},
   "source": [
    "Sai số của mô hình $Y_1 = \\theta_0 + \\theta_1 X_1^2$ Là : 0.49365\n",
    "\n",
    "Sai số của mô hình $Y_2 = \\theta_0 + \\theta_1 X_1^3 + \\theta_2 X_2^2$ Là : 0.48884\n",
    "\n",
    "Vậy chọn mô hình $Y_2$ là mô hình tốt nhất mà Em tìm được\n",
    "\n"
   ]
  }
 ],
 "metadata": {
  "kernelspec": {
   "display_name": "Python 3.9.6 64-bit",
   "language": "python",
   "name": "python3"
  },
  "language_info": {
   "codemirror_mode": {
    "name": "ipython",
    "version": 3
   },
   "file_extension": ".py",
   "mimetype": "text/x-python",
   "name": "python",
   "nbconvert_exporter": "python",
   "pygments_lexer": "ipython3",
   "version": "3.9.6"
  },
  "orig_nbformat": 4,
  "vscode": {
   "interpreter": {
    "hash": "0d591c6e422414675974e227c13f5382000c440fedd3c5006ef2be5d887f0ba7"
   }
  }
 },
 "nbformat": 4,
 "nbformat_minor": 2
}
